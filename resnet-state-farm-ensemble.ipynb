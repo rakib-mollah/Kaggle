{
 "cells": [
  {
   "cell_type": "code",
   "execution_count": 1,
   "id": "d969fc35",
   "metadata": {
    "execution": {
     "iopub.execute_input": "2022-10-05T09:37:14.285404Z",
     "iopub.status.busy": "2022-10-05T09:37:14.284999Z",
     "iopub.status.idle": "2022-10-05T09:40:02.553401Z",
     "shell.execute_reply": "2022-10-05T09:40:02.552211Z"
    },
    "papermill": {
     "duration": 168.277514,
     "end_time": "2022-10-05T09:40:02.557765",
     "exception": false,
     "start_time": "2022-10-05T09:37:14.280251",
     "status": "completed"
    },
    "tags": []
   },
   "outputs": [
    {
     "name": "stdout",
     "output_type": "stream",
     "text": [
      "Collecting split_folders\r\n",
      "  Downloading split_folders-0.5.1-py3-none-any.whl (8.4 kB)\r\n",
      "Installing collected packages: split_folders\r\n",
      "Successfully installed split_folders-0.5.1\r\n",
      "\u001b[33mWARNING: Running pip as the 'root' user can result in broken permissions and conflicting behaviour with the system package manager. It is recommended to use a virtual environment instead: https://pip.pypa.io/warnings/venv\u001b[0m\u001b[33m\r\n",
      "\u001b[0m"
     ]
    },
    {
     "name": "stderr",
     "output_type": "stream",
     "text": [
      "Copying files: 22424 files [02:36, 143.55 files/s]\n"
     ]
    }
   ],
   "source": [
    "!pip install split_folders\n",
    "import splitfolders\n",
    "splitfolders.ratio(\"../input/state-farm-distracted-driver-detection/imgs/train\", output=\"./\", seed=1337, ratio=(.7, .2, .1), group_prefix=None) # default values"
   ]
  },
  {
   "cell_type": "code",
   "execution_count": 2,
   "id": "9faf8f4a",
   "metadata": {
    "execution": {
     "iopub.execute_input": "2022-10-05T09:40:02.688732Z",
     "iopub.status.busy": "2022-10-05T09:40:02.688086Z",
     "iopub.status.idle": "2022-10-05T09:40:08.263550Z",
     "shell.execute_reply": "2022-10-05T09:40:08.262562Z"
    },
    "papermill": {
     "duration": 5.640853,
     "end_time": "2022-10-05T09:40:08.266266",
     "exception": false,
     "start_time": "2022-10-05T09:40:02.625413",
     "status": "completed"
    },
    "tags": []
   },
   "outputs": [],
   "source": [
    "import pandas as pd\n",
    "import numpy as np\n",
    "import os\n",
    "import keras\n",
    "import matplotlib.pyplot as plt\n",
    "from keras.layers import Dense, Dropout, Flatten, ZeroPadding2D, Conv2D, MaxPooling2D, Activation, GlobalAveragePooling2D\n",
    "from keras.preprocessing import image\n",
    "from keras.applications.mobilenet import preprocess_input\n",
    "from keras.preprocessing.image import ImageDataGenerator\n",
    "from keras.models import Model, Sequential\n",
    "#from keras.optimizers import Adam\n",
    "from tensorflow.keras.optimizers import Adam\n",
    "from sklearn.model_selection import train_test_split\n",
    "from keras.callbacks import EarlyStopping, ReduceLROnPlateau\n",
    "from sklearn.utils import class_weight\n"
   ]
  },
  {
   "cell_type": "code",
   "execution_count": 3,
   "id": "a305d28e",
   "metadata": {
    "execution": {
     "iopub.execute_input": "2022-10-05T09:40:08.391058Z",
     "iopub.status.busy": "2022-10-05T09:40:08.390469Z",
     "iopub.status.idle": "2022-10-05T09:40:09.560194Z",
     "shell.execute_reply": "2022-10-05T09:40:09.559033Z"
    },
    "papermill": {
     "duration": 1.236674,
     "end_time": "2022-10-05T09:40:09.562970",
     "exception": false,
     "start_time": "2022-10-05T09:40:08.326296",
     "status": "completed"
    },
    "tags": []
   },
   "outputs": [
    {
     "name": "stdout",
     "output_type": "stream",
     "text": [
      "Found 15692 images belonging to 10 classes.\n",
      "Found 4481 images belonging to 10 classes.\n"
     ]
    }
   ],
   "source": [
    "import os\n",
    "NUM_CLASSES = len(os.listdir(r'./test'))\n",
    "\n",
    "train_datagen=ImageDataGenerator(preprocessing_function=preprocess_input) #included in our dependencies\n",
    "\n",
    "train_generator=train_datagen.flow_from_directory(r'./train', # this is where you specify the path to the main data folder\n",
    "                                                 target_size=(224,224),\n",
    "                                                 color_mode='rgb',\n",
    "                                                 batch_size=24,\n",
    "                                                 class_mode='categorical',\n",
    "                                                 shuffle=True)\n",
    "\n",
    "val_datagen=ImageDataGenerator(preprocessing_function=preprocess_input) #included in our dependencies\n",
    "\n",
    "val_generator=val_datagen.flow_from_directory(r'./val', # this is where you specify the path to the main data folder\n",
    "                                                 target_size=(224,224),\n",
    "                                                 color_mode='rgb',\n",
    "                                                 batch_size=24,\n",
    "                                                 class_mode='categorical',\n",
    "                                                 shuffle=True)"
   ]
  },
  {
   "cell_type": "markdown",
   "id": "6db36ddd",
   "metadata": {
    "papermill": {
     "duration": 0.059071,
     "end_time": "2022-10-05T09:40:09.681803",
     "exception": false,
     "start_time": "2022-10-05T09:40:09.622732",
     "status": "completed"
    },
    "tags": []
   },
   "source": [
    "# EfficientNet"
   ]
  },
  {
   "cell_type": "code",
   "execution_count": 4,
   "id": "618cda95",
   "metadata": {
    "execution": {
     "iopub.execute_input": "2022-10-05T09:40:09.801070Z",
     "iopub.status.busy": "2022-10-05T09:40:09.800747Z",
     "iopub.status.idle": "2022-10-05T09:40:15.486603Z",
     "shell.execute_reply": "2022-10-05T09:40:15.484767Z"
    },
    "papermill": {
     "duration": 5.749781,
     "end_time": "2022-10-05T09:40:15.490755",
     "exception": false,
     "start_time": "2022-10-05T09:40:09.740974",
     "status": "completed"
    },
    "tags": []
   },
   "outputs": [
    {
     "name": "stderr",
     "output_type": "stream",
     "text": [
      "2022-10-05 09:40:09.911599: I tensorflow/stream_executor/cuda/cuda_gpu_executor.cc:937] successful NUMA node read from SysFS had negative value (-1), but there must be at least one NUMA node, so returning NUMA node zero\n",
      "2022-10-05 09:40:10.006574: I tensorflow/stream_executor/cuda/cuda_gpu_executor.cc:937] successful NUMA node read from SysFS had negative value (-1), but there must be at least one NUMA node, so returning NUMA node zero\n",
      "2022-10-05 09:40:10.007348: I tensorflow/stream_executor/cuda/cuda_gpu_executor.cc:937] successful NUMA node read from SysFS had negative value (-1), but there must be at least one NUMA node, so returning NUMA node zero\n",
      "2022-10-05 09:40:10.009106: I tensorflow/core/platform/cpu_feature_guard.cc:142] This TensorFlow binary is optimized with oneAPI Deep Neural Network Library (oneDNN) to use the following CPU instructions in performance-critical operations:  AVX2 AVX512F FMA\n",
      "To enable them in other operations, rebuild TensorFlow with the appropriate compiler flags.\n",
      "2022-10-05 09:40:10.009394: I tensorflow/stream_executor/cuda/cuda_gpu_executor.cc:937] successful NUMA node read from SysFS had negative value (-1), but there must be at least one NUMA node, so returning NUMA node zero\n",
      "2022-10-05 09:40:10.010177: I tensorflow/stream_executor/cuda/cuda_gpu_executor.cc:937] successful NUMA node read from SysFS had negative value (-1), but there must be at least one NUMA node, so returning NUMA node zero\n",
      "2022-10-05 09:40:10.010863: I tensorflow/stream_executor/cuda/cuda_gpu_executor.cc:937] successful NUMA node read from SysFS had negative value (-1), but there must be at least one NUMA node, so returning NUMA node zero\n",
      "2022-10-05 09:40:12.162882: I tensorflow/stream_executor/cuda/cuda_gpu_executor.cc:937] successful NUMA node read from SysFS had negative value (-1), but there must be at least one NUMA node, so returning NUMA node zero\n",
      "2022-10-05 09:40:12.163804: I tensorflow/stream_executor/cuda/cuda_gpu_executor.cc:937] successful NUMA node read from SysFS had negative value (-1), but there must be at least one NUMA node, so returning NUMA node zero\n",
      "2022-10-05 09:40:12.164491: I tensorflow/stream_executor/cuda/cuda_gpu_executor.cc:937] successful NUMA node read from SysFS had negative value (-1), but there must be at least one NUMA node, so returning NUMA node zero\n",
      "2022-10-05 09:40:12.165087: I tensorflow/core/common_runtime/gpu/gpu_device.cc:1510] Created device /job:localhost/replica:0/task:0/device:GPU:0 with 15401 MB memory:  -> device: 0, name: Tesla P100-PCIE-16GB, pci bus id: 0000:00:04.0, compute capability: 6.0\n"
     ]
    },
    {
     "name": "stdout",
     "output_type": "stream",
     "text": [
      "Downloading data from https://storage.googleapis.com/keras-applications/efficientnetb0_notop.h5\n",
      "16711680/16705208 [==============================] - 0s 0us/step\n",
      "16719872/16705208 [==============================] - 0s 0us/step\n",
      "Model: \"sequential\"\n",
      "_________________________________________________________________\n",
      "Layer (type)                 Output Shape              Param #   \n",
      "=================================================================\n",
      "efficientnetb0 (Functional)  (None, 1280)              4049571   \n",
      "_________________________________________________________________\n",
      "dense (Dense)                (None, 10)                12810     \n",
      "=================================================================\n",
      "Total params: 4,062,381\n",
      "Trainable params: 4,020,358\n",
      "Non-trainable params: 42,023\n",
      "_________________________________________________________________\n",
      "None\n"
     ]
    }
   ],
   "source": [
    "from tensorflow.keras.applications.inception_v3 import InceptionV3\n",
    "from tensorflow.keras.applications.inception_resnet_v2 import InceptionResNetV2\n",
    "from tensorflow.keras.applications.xception import Xception\n",
    "from tensorflow.keras.applications.densenet import DenseNet201\n",
    "from tensorflow.keras.applications.efficientnet import EfficientNetB0\n",
    "from tensorflow.keras.applications.mobilenet import MobileNet\n",
    "from tensorflow.keras.applications.mobilenet_v2 import MobileNetV2\n",
    "from tensorflow.keras.applications.resnet50 import ResNet50\n",
    "from tensorflow.keras.applications.nasnet import NASNetMobile\n",
    "\n",
    "md = EfficientNetB0(weights='imagenet', include_top=False,  input_shape=(224, 224, 3), pooling='avg')\n",
    "\n",
    "from keras.utils.vis_utils import plot_model\n",
    "model = keras.models.Sequential([\n",
    "    md,\n",
    "    keras.layers.Dense(NUM_CLASSES, activation='softmax')\n",
    "]) \n",
    "# summarize layers \n",
    "print(model.summary())\n",
    "# plot graph\n",
    "#plot_model(model, to_file='shared_input_layer.png')"
   ]
  },
  {
   "cell_type": "code",
   "execution_count": 5,
   "id": "a686048d",
   "metadata": {
    "execution": {
     "iopub.execute_input": "2022-10-05T09:40:15.715329Z",
     "iopub.status.busy": "2022-10-05T09:40:15.714161Z",
     "iopub.status.idle": "2022-10-05T10:35:22.970787Z",
     "shell.execute_reply": "2022-10-05T10:35:22.969721Z"
    },
    "papermill": {
     "duration": 3307.374493,
     "end_time": "2022-10-05T10:35:22.973256",
     "exception": false,
     "start_time": "2022-10-05T09:40:15.598763",
     "status": "completed"
    },
    "tags": []
   },
   "outputs": [
    {
     "name": "stderr",
     "output_type": "stream",
     "text": [
      "/opt/conda/lib/python3.7/site-packages/keras/optimizer_v2/optimizer_v2.py:356: UserWarning: The `lr` argument is deprecated, use `learning_rate` instead.\n",
      "  \"The `lr` argument is deprecated, use `learning_rate` instead.\")\n",
      "/opt/conda/lib/python3.7/site-packages/keras/engine/training.py:1972: UserWarning: `Model.fit_generator` is deprecated and will be removed in a future version. Please use `Model.fit`, which supports generators.\n",
      "  warnings.warn('`Model.fit_generator` is deprecated and '\n",
      "2022-10-05 09:40:16.031066: I tensorflow/compiler/mlir/mlir_graph_optimization_pass.cc:185] None of the MLIR Optimization Passes are enabled (registered 2)\n"
     ]
    },
    {
     "name": "stdout",
     "output_type": "stream",
     "text": [
      "Epoch 1/20\n"
     ]
    },
    {
     "name": "stderr",
     "output_type": "stream",
     "text": [
      "2022-10-05 09:40:24.500298: I tensorflow/stream_executor/cuda/cuda_dnn.cc:369] Loaded cuDNN version 8005\n"
     ]
    },
    {
     "name": "stdout",
     "output_type": "stream",
     "text": [
      "653/653 [==============================] - 160s 223ms/step - loss: 1.9081 - accuracy: 0.4567 - val_loss: 1.9614 - val_accuracy: 0.4227\n",
      "Epoch 2/20\n",
      "653/653 [==============================] - 144s 220ms/step - loss: 0.8399 - accuracy: 0.8565 - val_loss: 0.4042 - val_accuracy: 0.9254\n",
      "Epoch 3/20\n",
      "653/653 [==============================] - 145s 222ms/step - loss: 0.3389 - accuracy: 0.9344 - val_loss: 0.1713 - val_accuracy: 0.9617\n",
      "Epoch 4/20\n",
      "653/653 [==============================] - 145s 221ms/step - loss: 0.1921 - accuracy: 0.9574 - val_loss: 0.1892 - val_accuracy: 0.9525\n",
      "Epoch 5/20\n",
      "653/653 [==============================] - 145s 221ms/step - loss: 0.1239 - accuracy: 0.9743 - val_loss: 0.0917 - val_accuracy: 0.9776\n",
      "Epoch 6/20\n",
      "653/653 [==============================] - 143s 219ms/step - loss: 0.0917 - accuracy: 0.9802 - val_loss: 0.0518 - val_accuracy: 0.9859\n",
      "Epoch 7/20\n",
      "653/653 [==============================] - 145s 222ms/step - loss: 0.0681 - accuracy: 0.9847 - val_loss: 0.0568 - val_accuracy: 0.9845\n",
      "Epoch 8/20\n",
      "653/653 [==============================] - 144s 221ms/step - loss: 0.0525 - accuracy: 0.9890 - val_loss: 0.0376 - val_accuracy: 0.9901\n",
      "Epoch 9/20\n",
      "653/653 [==============================] - 145s 222ms/step - loss: 0.0393 - accuracy: 0.9921 - val_loss: 0.0742 - val_accuracy: 0.9792\n",
      "Epoch 10/20\n",
      "653/653 [==============================] - 145s 222ms/step - loss: 0.0346 - accuracy: 0.9921 - val_loss: 0.0321 - val_accuracy: 0.9908\n",
      "Epoch 11/20\n",
      "653/653 [==============================] - 145s 221ms/step - loss: 0.0288 - accuracy: 0.9927 - val_loss: 0.0278 - val_accuracy: 0.9917\n",
      "Epoch 12/20\n",
      "653/653 [==============================] - 146s 223ms/step - loss: 0.0241 - accuracy: 0.9944 - val_loss: 0.0165 - val_accuracy: 0.9957\n",
      "Epoch 13/20\n",
      "653/653 [==============================] - 146s 223ms/step - loss: 0.0193 - accuracy: 0.9960 - val_loss: 0.0139 - val_accuracy: 0.9966\n",
      "Epoch 14/20\n",
      "653/653 [==============================] - 146s 223ms/step - loss: 0.0183 - accuracy: 0.9956 - val_loss: 0.0187 - val_accuracy: 0.9940\n",
      "Epoch 15/20\n",
      "653/653 [==============================] - 145s 221ms/step - loss: 0.0150 - accuracy: 0.9962 - val_loss: 0.0202 - val_accuracy: 0.9944\n",
      "Epoch 16/20\n",
      "653/653 [==============================] - 146s 223ms/step - loss: 0.0127 - accuracy: 0.9972 - val_loss: 0.0344 - val_accuracy: 0.9897\n",
      "Epoch 17/20\n",
      "653/653 [==============================] - 146s 223ms/step - loss: 0.0128 - accuracy: 0.9969 - val_loss: 0.0143 - val_accuracy: 0.9964\n",
      "Epoch 18/20\n",
      "653/653 [==============================] - 145s 221ms/step - loss: 0.0116 - accuracy: 0.9976 - val_loss: 0.0188 - val_accuracy: 0.9946\n",
      "Epoch 19/20\n",
      "653/653 [==============================] - 146s 224ms/step - loss: 0.0085 - accuracy: 0.9983 - val_loss: 0.0141 - val_accuracy: 0.9951\n",
      "Epoch 20/20\n",
      "653/653 [==============================] - 146s 223ms/step - loss: 0.0086 - accuracy: 0.9982 - val_loss: 0.0120 - val_accuracy: 0.9975\n"
     ]
    }
   ],
   "source": [
    "earlystop=EarlyStopping(patience=3) \n",
    "learning_rate_reduction=ReduceLROnPlateau(monitor='loss',patience=2,verbose=1,factor=0.1,min_lr=0.0000000001) \n",
    "callback=[learning_rate_reduction]\n",
    "\n",
    "model.compile(optimizer=Adam(lr=0.00001),loss='categorical_crossentropy', metrics=['accuracy'])\n",
    "\n",
    "step_size_train=train_generator.n//train_generator.batch_size\n",
    "step_size_val=val_generator.n//val_generator.batch_size\n",
    "history = model.fit_generator(generator=train_generator, steps_per_epoch=step_size_train, validation_data=val_generator, validation_steps=step_size_val, epochs=20, callbacks=callback)"
   ]
  },
  {
   "cell_type": "code",
   "execution_count": 6,
   "id": "e0cda68e",
   "metadata": {
    "execution": {
     "iopub.execute_input": "2022-10-05T10:35:24.730034Z",
     "iopub.status.busy": "2022-10-05T10:35:24.729664Z",
     "iopub.status.idle": "2022-10-05T10:35:25.041635Z",
     "shell.execute_reply": "2022-10-05T10:35:25.040721Z"
    },
    "papermill": {
     "duration": 1.33656,
     "end_time": "2022-10-05T10:35:25.043751",
     "exception": false,
     "start_time": "2022-10-05T10:35:23.707191",
     "status": "completed"
    },
    "tags": []
   },
   "outputs": [
    {
     "name": "stderr",
     "output_type": "stream",
     "text": [
      "/opt/conda/lib/python3.7/site-packages/keras/utils/generic_utils.py:497: CustomMaskWarning: Custom mask layers require a config and must override get_config. When loading, the custom mask layer must be passed to the custom_objects argument.\n",
      "  category=CustomMaskWarning)\n"
     ]
    },
    {
     "name": "stdout",
     "output_type": "stream",
     "text": [
      "Saved model to disk\n"
     ]
    }
   ],
   "source": [
    "# serialize model to JSON\n",
    "model_json = model.to_json()\n",
    "with open(\"EfficientNetB6.json\", \"w\") as json_file:\n",
    "    json_file.write(model_json)\n",
    "# serialize weights to HDF5\n",
    "model.save_weights(\"EfficientNetB6.h5\") \n",
    "print(\"Saved model to disk\")"
   ]
  },
  {
   "cell_type": "code",
   "execution_count": 7,
   "id": "837369d7",
   "metadata": {
    "execution": {
     "iopub.execute_input": "2022-10-05T10:35:26.569805Z",
     "iopub.status.busy": "2022-10-05T10:35:26.568285Z",
     "iopub.status.idle": "2022-10-05T10:35:26.994272Z",
     "shell.execute_reply": "2022-10-05T10:35:26.993410Z"
    },
    "papermill": {
     "duration": 1.227031,
     "end_time": "2022-10-05T10:35:26.996474",
     "exception": false,
     "start_time": "2022-10-05T10:35:25.769443",
     "status": "completed"
    },
    "tags": []
   },
   "outputs": [
    {
     "data": {
      "image/png": "[encoded data removed]",
      "text/plain": [
       "<Figure size 432x288 with 1 Axes>"
      ]
     },
     "metadata": {
      "needs_background": "light"
     },
     "output_type": "display_data"
    },
    {
     "data": {
      "image/png": "[encoded data removed]",
      "text/plain": [
       "<Figure size 432x288 with 1 Axes>"
      ]
     },
     "metadata": {
      "needs_background": "light"
     },
     "output_type": "display_data"
    }
   ],
   "source": [
    "plt.figure(1)\n",
    "plt.plot(history.history['accuracy'])\n",
    "plt.plot(history.history['val_accuracy'])\n",
    "plt.title('model accuracy')\n",
    "plt.ylabel('accuracy')\n",
    "plt.xlabel('epoch')\n",
    "plt.legend(['train', 'val'], loc='upper left')\n",
    "\n",
    "plt.figure(2)\n",
    "plt.plot(history.history['loss'])\n",
    "plt.plot(history.history['val_loss'])\n",
    "plt.title('model loss')\n",
    "plt.ylabel('loss')\n",
    "plt.xlabel('epoch')\n",
    "plt.legend(['train', 'val'], loc='upper right')\n",
    "plt.show()"
   ]
  },
  {
   "cell_type": "code",
   "execution_count": 8,
   "id": "27d43fe5",
   "metadata": {
    "execution": {
     "iopub.execute_input": "2022-10-05T10:35:28.522690Z",
     "iopub.status.busy": "2022-10-05T10:35:28.522299Z",
     "iopub.status.idle": "2022-10-05T10:35:43.305363Z",
     "shell.execute_reply": "2022-10-05T10:35:43.304432Z"
    },
    "papermill": {
     "duration": 15.572622,
     "end_time": "2022-10-05T10:35:43.307608",
     "exception": false,
     "start_time": "2022-10-05T10:35:27.734986",
     "status": "completed"
    },
    "tags": []
   },
   "outputs": [
    {
     "name": "stdout",
     "output_type": "stream",
     "text": [
      "Found 2251 images belonging to 10 classes.\n"
     ]
    },
    {
     "name": "stderr",
     "output_type": "stream",
     "text": [
      "/opt/conda/lib/python3.7/site-packages/keras/engine/training.py:2035: UserWarning: `Model.predict_generator` is deprecated and will be removed in a future version. Please use `Model.predict`, which supports generators.\n",
      "  warnings.warn('`Model.predict_generator` is deprecated and '\n"
     ]
    },
    {
     "name": "stdout",
     "output_type": "stream",
     "text": [
      "93/93 [==============================] - 13s 129ms/step\n",
      "               Filename Predictions\n",
      "0     c0/img_100026.jpg          c0\n",
      "1       c0/img_1005.jpg          c0\n",
      "2     c0/img_101175.jpg          c0\n",
      "3     c0/img_102087.jpg          c0\n",
      "4      c0/img_10225.jpg          c0\n",
      "...                 ...         ...\n",
      "2246   c9/img_96905.jpg          c9\n",
      "2247   c9/img_97889.jpg          c9\n",
      "2248   c9/img_98514.jpg          c9\n",
      "2249    c9/img_9877.jpg          c9\n",
      "2250   c9/img_99212.jpg          c0\n",
      "\n",
      "[2251 rows x 2 columns]\n",
      "2239 12\n",
      "              precision    recall  f1-score   support\n",
      "\n",
      "           0       0.98      1.00      0.99       250\n",
      "           1       1.00      1.00      1.00       228\n",
      "           2       1.00      1.00      1.00       233\n",
      "           3       1.00      1.00      1.00       235\n",
      "           4       1.00      1.00      1.00       233\n",
      "           5       1.00      0.99      0.99       232\n",
      "           6       1.00      1.00      1.00       233\n",
      "           7       1.00      0.99      0.99       201\n",
      "           8       1.00      0.99      0.99       192\n",
      "           9       0.98      0.99      0.99       214\n",
      "\n",
      "   micro avg       0.99      0.99      0.99      2251\n",
      "   macro avg       0.99      0.99      0.99      2251\n",
      "weighted avg       0.99      0.99      0.99      2251\n",
      " samples avg       0.99      0.99      0.99      2251\n",
      "\n",
      "99.46690359840072\n",
      "Class  0  Accuracy:  0.996\n",
      "Class  1  Accuracy:  1.0\n",
      "Class  2  Accuracy:  0.9957081545064378\n",
      "Class  3  Accuracy:  0.9957446808510638\n",
      "Class  4  Accuracy:  1.0\n",
      "Class  5  Accuracy:  0.9870689655172413\n",
      "Class  6  Accuracy:  1.0\n",
      "Class  7  Accuracy:  0.9900497512437811\n",
      "Class  8  Accuracy:  0.9895833333333334\n",
      "Class  9  Accuracy:  0.9906542056074766\n"
     ]
    },
    {
     "data": {
      "text/plain": [
       "<AxesSubplot:>"
      ]
     },
     "execution_count": 8,
     "metadata": {},
     "output_type": "execute_result"
    },
    {
     "data": {
      "image/png": "[encoded data removed]",
      "text/plain": [
       "<Figure size 720x576 with 2 Axes>"
      ]
     },
     "metadata": {
      "needs_background": "light"
     },
     "output_type": "display_data"
    }
   ],
   "source": [
    "test_datagen=ImageDataGenerator(preprocessing_function=preprocess_input)\n",
    "batch_size=24\n",
    "pred_dir = r'./test'\n",
    "test_generator = test_datagen.flow_from_directory(\n",
    "    directory=pred_dir,\n",
    "    target_size=(224,224),\n",
    "    color_mode=\"rgb\",\n",
    "    batch_size=batch_size,\n",
    "    class_mode=None,\n",
    "    shuffle=False\n",
    ")\n",
    "#test_generator.reset() \n",
    "pred=model.predict_generator(test_generator,verbose=1,steps=test_generator.n/batch_size)\n",
    "\n",
    "predicted_class_indices=np.argmax(pred,axis=1)\n",
    "labels = (train_generator.class_indices)\n",
    "labels = dict((v,k) for k,v in labels.items())\n",
    "predictions = [labels[k] for k in predicted_class_indices]\n",
    "filenames=test_generator.filenames\n",
    "results=pd.DataFrame({\"Filename\":filenames,\n",
    "                      \"Predictions\":predictions})\n",
    "print(results)\n",
    "\n",
    "\n",
    "import pandas as pd\n",
    "t_counter = 0\n",
    "f_counter = 0\n",
    "\n",
    "file_arr = []\n",
    "pred_arr = []\n",
    "\n",
    "for index, row in results.iterrows():\n",
    "    #print(row['Filename'].split('/')[0], row['Predictions'])\n",
    "    file_arr.append(row['Filename'].split('/')[0])\n",
    "    pred_arr.append(row['Predictions'])\n",
    "    if row['Filename'].split('/')[0] == row['Predictions']:\n",
    "        t_counter = t_counter + 1\n",
    "    else:\n",
    "        f_counter = f_counter + 1\n",
    "print(t_counter, f_counter)\n",
    "\n",
    "from sklearn.preprocessing import LabelEncoder\n",
    "labelencoder = LabelEncoder()\n",
    "test_y = labelencoder.fit_transform(file_arr)\n",
    "pred_y = labelencoder.fit_transform(pred_arr)\n",
    "test_y_or = test_y\n",
    "pred_y_or = pred_y\n",
    "\n",
    "from keras.utils import np_utils\n",
    "test_y = np_utils.to_categorical(test_y, NUM_CLASSES)\n",
    "pred_y = np_utils.to_categorical(pred_y, NUM_CLASSES)\n",
    "from sklearn.metrics import classification_report\n",
    "print(classification_report(test_y, pred_y))\n",
    "\n",
    "from sklearn.metrics import accuracy_score\n",
    "score = accuracy_score(test_y, pred_y)\n",
    "print(score*100)\n",
    "\n",
    "from sklearn.metrics import confusion_matrix\n",
    "c=confusion_matrix(test_y_or, pred_y_or)\n",
    "x = c.diagonal()/c.sum(axis=1)\n",
    "for i in range(len(x)):\n",
    "    print('Class ', i, ' Accuracy: ', x[i])\n",
    "import seaborn as sns\n",
    "import matplotlib.pyplot as plt\n",
    "\n",
    "plt.figure(figsize = (10,8))\n",
    "sns.heatmap(c, annot=True, annot_kws={\"size\": 25}, fmt='d')"
   ]
  }
 ],
 "metadata": {
  "kernelspec": {
   "display_name": "Python 3",
   "language": "python",
   "name": "python3"
  },
  "language_info": {
   "codemirror_mode": {
    "name": "ipython",
    "version": 3
   },
   "file_extension": ".py",
   "mimetype": "text/x-python",
   "name": "python",
   "nbconvert_exporter": "python",
   "pygments_lexer": "ipython3",
   "version": "3.7.12"
  },
  "papermill": {
   "default_parameters": {},
   "duration": 3520.97208,
   "end_time": "2022-10-05T10:35:47.444039",
   "environment_variables": {},
   "exception": null,
   "input_path": "__notebook__.ipynb",
   "output_path": "__notebook__.ipynb",
   "parameters": {},
   "start_time": "2022-10-05T09:37:06.471959",
   "version": "2.3.4"
  }
 },
 "nbformat": 4,
 "nbformat_minor": 5
}
