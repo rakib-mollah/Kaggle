{
 "cells": [
  {
   "cell_type": "code",
   "execution_count": 1,
   "id": "40b35712",
   "metadata": {
    "_cell_guid": "b1076dfc-b9ad-4769-8c92-a6c4dae69d19",
    "_uuid": "8f2839f25d086af736a60e9eeb907d3b93b6e0e5",
    "execution": {
     "iopub.execute_input": "2022-07-19T05:03:27.031605Z",
     "iopub.status.busy": "2022-07-19T05:03:27.030769Z",
     "iopub.status.idle": "2022-07-19T05:03:27.052116Z",
     "shell.execute_reply": "2022-07-19T05:03:27.050609Z"
    },
    "papermill": {
     "duration": 0.029957,
     "end_time": "2022-07-19T05:03:27.054834",
     "exception": false,
     "start_time": "2022-07-19T05:03:27.024877",
     "status": "completed"
    },
    "tags": []
   },
   "outputs": [
    {
     "name": "stdout",
     "output_type": "stream",
     "text": [
      "/kaggle/input/us-dollarrussian-ruble-prices-2022/Russian_Ruble_prices_2022.csv\n"
     ]
    }
   ],
   "source": [
    "# This Python 3 environment comes with many helpful analytics libraries installed\n",
    "# It is defined by the kaggle/python Docker image: https://github.com/kaggle/docker-python\n",
    "# For example, here's several helpful packages to load\n",
    "\n",
    "import numpy as np # linear algebra\n",
    "import pandas as pd # data processing, CSV file I/O (e.g. pd.read_csv)\n",
    "\n",
    "# Input data files are available in the read-only \"../input/\" directory\n",
    "# For example, running this (by clicking run or pressing Shift+Enter) will list all files under the input directory\n",
    "\n",
    "import os\n",
    "for dirname, _, filenames in os.walk('/kaggle/input'):\n",
    "    for filename in filenames:\n",
    "        print(os.path.join(dirname, filename))\n",
    "\n",
    "# You can write up to 20GB to the current directory (/kaggle/working/) that gets preserved as output when you create a version using \"Save & Run All\" \n",
    "# You can also write temporary files to /kaggle/temp/, but they won't be saved outside of the current session"
   ]
  },
  {
   "cell_type": "code",
   "execution_count": 2,
   "id": "482d208f",
   "metadata": {
    "execution": {
     "iopub.execute_input": "2022-07-19T05:03:27.063081Z",
     "iopub.status.busy": "2022-07-19T05:03:27.062662Z",
     "iopub.status.idle": "2022-07-19T05:03:27.115203Z",
     "shell.execute_reply": "2022-07-19T05:03:27.114054Z"
    },
    "papermill": {
     "duration": 0.059141,
     "end_time": "2022-07-19T05:03:27.117532",
     "exception": false,
     "start_time": "2022-07-19T05:03:27.058391",
     "status": "completed"
    },
    "tags": []
   },
   "outputs": [
    {
     "data": {
      "text/html": [
       "<div>\n",
       "<style scoped>\n",
       "    .dataframe tbody tr th:only-of-type {\n",
       "        vertical-align: middle;\n",
       "    }\n",
       "\n",
       "    .dataframe tbody tr th {\n",
       "        vertical-align: top;\n",
       "    }\n",
       "\n",
       "    .dataframe thead th {\n",
       "        text-align: right;\n",
       "    }\n",
       "</style>\n",
       "<table border=\"1\" class=\"dataframe\">\n",
       "  <thead>\n",
       "    <tr style=\"text-align: right;\">\n",
       "      <th></th>\n",
       "      <th>Date</th>\n",
       "      <th>Open</th>\n",
       "      <th>High</th>\n",
       "      <th>Low</th>\n",
       "      <th>Close</th>\n",
       "    </tr>\n",
       "  </thead>\n",
       "  <tbody>\n",
       "    <tr>\n",
       "      <th>0</th>\n",
       "      <td>2022-07-15</td>\n",
       "      <td>58.2750</td>\n",
       "      <td>60.8310</td>\n",
       "      <td>56.5000</td>\n",
       "      <td>57.0000</td>\n",
       "    </tr>\n",
       "    <tr>\n",
       "      <th>1</th>\n",
       "      <td>2022-07-14</td>\n",
       "      <td>58.4750</td>\n",
       "      <td>60.7630</td>\n",
       "      <td>58.0249</td>\n",
       "      <td>58.2750</td>\n",
       "    </tr>\n",
       "    <tr>\n",
       "      <th>2</th>\n",
       "      <td>2022-07-13</td>\n",
       "      <td>58.4250</td>\n",
       "      <td>62.4850</td>\n",
       "      <td>58.2749</td>\n",
       "      <td>58.4750</td>\n",
       "    </tr>\n",
       "    <tr>\n",
       "      <th>3</th>\n",
       "      <td>2022-07-12</td>\n",
       "      <td>65.0000</td>\n",
       "      <td>65.2580</td>\n",
       "      <td>58.2250</td>\n",
       "      <td>58.4249</td>\n",
       "    </tr>\n",
       "    <tr>\n",
       "      <th>4</th>\n",
       "      <td>2022-07-11</td>\n",
       "      <td>64.9000</td>\n",
       "      <td>66.5000</td>\n",
       "      <td>59.2575</td>\n",
       "      <td>62.4999</td>\n",
       "    </tr>\n",
       "    <tr>\n",
       "      <th>...</th>\n",
       "      <td>...</td>\n",
       "      <td>...</td>\n",
       "      <td>...</td>\n",
       "      <td>...</td>\n",
       "      <td>...</td>\n",
       "    </tr>\n",
       "    <tr>\n",
       "      <th>135</th>\n",
       "      <td>2022-01-07</td>\n",
       "      <td>76.3121</td>\n",
       "      <td>76.5174</td>\n",
       "      <td>75.0932</td>\n",
       "      <td>75.7236</td>\n",
       "    </tr>\n",
       "    <tr>\n",
       "      <th>136</th>\n",
       "      <td>2022-01-06</td>\n",
       "      <td>76.7816</td>\n",
       "      <td>77.3396</td>\n",
       "      <td>76.0080</td>\n",
       "      <td>76.3135</td>\n",
       "    </tr>\n",
       "    <tr>\n",
       "      <th>137</th>\n",
       "      <td>2022-01-05</td>\n",
       "      <td>75.1399</td>\n",
       "      <td>76.8889</td>\n",
       "      <td>75.0499</td>\n",
       "      <td>76.7815</td>\n",
       "    </tr>\n",
       "    <tr>\n",
       "      <th>138</th>\n",
       "      <td>2022-01-04</td>\n",
       "      <td>74.4932</td>\n",
       "      <td>75.5825</td>\n",
       "      <td>74.3962</td>\n",
       "      <td>75.2403</td>\n",
       "    </tr>\n",
       "    <tr>\n",
       "      <th>139</th>\n",
       "      <td>2022-01-03</td>\n",
       "      <td>74.7916</td>\n",
       "      <td>75.5798</td>\n",
       "      <td>74.1785</td>\n",
       "      <td>74.5694</td>\n",
       "    </tr>\n",
       "  </tbody>\n",
       "</table>\n",
       "<p>140 rows × 5 columns</p>\n",
       "</div>"
      ],
      "text/plain": [
       "          Date     Open     High      Low    Close\n",
       "0   2022-07-15  58.2750  60.8310  56.5000  57.0000\n",
       "1   2022-07-14  58.4750  60.7630  58.0249  58.2750\n",
       "2   2022-07-13  58.4250  62.4850  58.2749  58.4750\n",
       "3   2022-07-12  65.0000  65.2580  58.2250  58.4249\n",
       "4   2022-07-11  64.9000  66.5000  59.2575  62.4999\n",
       "..         ...      ...      ...      ...      ...\n",
       "135 2022-01-07  76.3121  76.5174  75.0932  75.7236\n",
       "136 2022-01-06  76.7816  77.3396  76.0080  76.3135\n",
       "137 2022-01-05  75.1399  76.8889  75.0499  76.7815\n",
       "138 2022-01-04  74.4932  75.5825  74.3962  75.2403\n",
       "139 2022-01-03  74.7916  75.5798  74.1785  74.5694\n",
       "\n",
       "[140 rows x 5 columns]"
      ]
     },
     "execution_count": 2,
     "metadata": {},
     "output_type": "execute_result"
    }
   ],
   "source": [
    "df = pd.read_csv('../input/us-dollarrussian-ruble-prices-2022/Russian_Ruble_prices_2022.csv',parse_dates=['Date'])\n",
    "df"
   ]
  },
  {
   "cell_type": "code",
   "execution_count": 3,
   "id": "de27bca6",
   "metadata": {
    "execution": {
     "iopub.execute_input": "2022-07-19T05:03:27.126342Z",
     "iopub.status.busy": "2022-07-19T05:03:27.125944Z",
     "iopub.status.idle": "2022-07-19T05:03:27.131337Z",
     "shell.execute_reply": "2022-07-19T05:03:27.130110Z"
    },
    "papermill": {
     "duration": 0.012681,
     "end_time": "2022-07-19T05:03:27.133869",
     "exception": false,
     "start_time": "2022-07-19T05:03:27.121188",
     "status": "completed"
    },
    "tags": []
   },
   "outputs": [],
   "source": [
    "import matplotlib.pyplot as plt"
   ]
  },
  {
   "cell_type": "code",
   "execution_count": 4,
   "id": "e6f41ef6",
   "metadata": {
    "execution": {
     "iopub.execute_input": "2022-07-19T05:03:27.143268Z",
     "iopub.status.busy": "2022-07-19T05:03:27.142528Z",
     "iopub.status.idle": "2022-07-19T05:03:27.654665Z",
     "shell.execute_reply": "2022-07-19T05:03:27.653557Z"
    },
    "papermill": {
     "duration": 0.519665,
     "end_time": "2022-07-19T05:03:27.657310",
     "exception": false,
     "start_time": "2022-07-19T05:03:27.137645",
     "status": "completed"
    },
    "tags": []
   },
   "outputs": [
    {
     "data": {
      "image/png": "[encoded data removed]",
      "text/plain": [
       "<Figure size 432x288 with 1 Axes>"
      ]
     },
     "metadata": {
      "needs_background": "light"
     },
     "output_type": "display_data"
    }
   ],
   "source": [
    "plt.barh(df['Date'],df['Open'],color = ['#F0F8FF','#B0E0E6',]) \n",
    "\n",
    "#Adding the aesthetics\n",
    "plt.title('Chart title')\n",
    "plt.xlabel('X axis title')\n",
    "plt.ylabel('Y axis title') \n",
    "\n",
    "#Show the plot\n",
    "plt.show()"
   ]
  },
  {
   "cell_type": "code",
   "execution_count": 5,
   "id": "61b22f83",
   "metadata": {
    "execution": {
     "iopub.execute_input": "2022-07-19T05:03:27.666753Z",
     "iopub.status.busy": "2022-07-19T05:03:27.666359Z",
     "iopub.status.idle": "2022-07-19T05:03:28.836845Z",
     "shell.execute_reply": "2022-07-19T05:03:28.835474Z"
    },
    "papermill": {
     "duration": 1.179012,
     "end_time": "2022-07-19T05:03:28.840199",
     "exception": false,
     "start_time": "2022-07-19T05:03:27.661187",
     "status": "completed"
    },
    "tags": []
   },
   "outputs": [],
   "source": [
    "import seaborn as sns"
   ]
  },
  {
   "cell_type": "code",
   "execution_count": 6,
   "id": "c5709c66",
   "metadata": {
    "execution": {
     "iopub.execute_input": "2022-07-19T05:03:28.850008Z",
     "iopub.status.busy": "2022-07-19T05:03:28.849581Z",
     "iopub.status.idle": "2022-07-19T05:03:31.639348Z",
     "shell.execute_reply": "2022-07-19T05:03:31.638173Z"
    },
    "papermill": {
     "duration": 2.797459,
     "end_time": "2022-07-19T05:03:31.641700",
     "exception": false,
     "start_time": "2022-07-19T05:03:28.844241",
     "status": "completed"
    },
    "tags": []
   },
   "outputs": [
    {
     "data": {
      "image/png": "[encoded data removed]",
      "text/plain": [
       "<Figure size 432x288 with 1 Axes>"
      ]
     },
     "metadata": {
      "needs_background": "light"
     },
     "output_type": "display_data"
    }
   ],
   "source": [
    "#Creating bar plot\n",
    "sns.barplot(x = 'Date',y = 'Open',data = df,palette = \"Blues\")\n",
    "#Adding the aesthetics\n",
    "plt.title('Chart title')\n",
    "plt.xlabel('X axis title')\n",
    "plt.ylabel('Y axis title') \n",
    "# Show the plot\n",
    "plt.show()"
   ]
  },
  {
   "cell_type": "code",
   "execution_count": 7,
   "id": "d67804eb",
   "metadata": {
    "execution": {
     "iopub.execute_input": "2022-07-19T05:03:31.651752Z",
     "iopub.status.busy": "2022-07-19T05:03:31.651369Z",
     "iopub.status.idle": "2022-07-19T05:03:31.656578Z",
     "shell.execute_reply": "2022-07-19T05:03:31.655845Z"
    },
    "papermill": {
     "duration": 0.012755,
     "end_time": "2022-07-19T05:03:31.658771",
     "exception": false,
     "start_time": "2022-07-19T05:03:31.646016",
     "status": "completed"
    },
    "tags": []
   },
   "outputs": [],
   "source": [
    "import datetime"
   ]
  },
  {
   "cell_type": "code",
   "execution_count": 8,
   "id": "1da7f65a",
   "metadata": {
    "execution": {
     "iopub.execute_input": "2022-07-19T05:03:31.668912Z",
     "iopub.status.busy": "2022-07-19T05:03:31.668522Z",
     "iopub.status.idle": "2022-07-19T05:03:31.898735Z",
     "shell.execute_reply": "2022-07-19T05:03:31.897658Z"
    },
    "papermill": {
     "duration": 0.238164,
     "end_time": "2022-07-19T05:03:31.901150",
     "exception": false,
     "start_time": "2022-07-19T05:03:31.662986",
     "status": "completed"
    },
    "tags": []
   },
   "outputs": [
    {
     "data": {
      "image/png": "[encoded data removed]",
      "text/plain": [
       "<Figure size 1080x432 with 1 Axes>"
      ]
     },
     "metadata": {
      "needs_background": "light"
     },
     "output_type": "display_data"
    }
   ],
   "source": [
    "plt.figure(figsize=(15,6))\n",
    "\n",
    "#Creating the line chart\n",
    "plt.plot(df['Date'], df['Open']) \n",
    "#Adding the aesthetics\n",
    "plt.title('Chart title')\n",
    "plt.xlabel('X axis title')\n",
    "plt.ylabel('Y axis title') \n",
    "#Show the plot\n",
    "plt.xlim([datetime.date(2022, 1, 1), datetime.date(2022, 7, 15)])\n",
    "plt.show()"
   ]
  }
 ],
 "metadata": {
  "kernelspec": {
   "display_name": "Python 3",
   "language": "python",
   "name": "python3"
  },
  "language_info": {
   "codemirror_mode": {
    "name": "ipython",
    "version": 3
   },
   "file_extension": ".py",
   "mimetype": "text/x-python",
   "name": "python",
   "nbconvert_exporter": "python",
   "pygments_lexer": "ipython3",
   "version": "3.7.12"
  },
  "papermill": {
   "default_parameters": {},
   "duration": 16.082989,
   "end_time": "2022-07-19T05:03:32.626347",
   "environment_variables": {},
   "exception": null,
   "input_path": "__notebook__.ipynb",
   "output_path": "__notebook__.ipynb",
   "parameters": {},
   "start_time": "2022-07-19T05:03:16.543358",
   "version": "2.3.4"
  }
 },
 "nbformat": 4,
 "nbformat_minor": 5
}
