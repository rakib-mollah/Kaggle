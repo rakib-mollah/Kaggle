{
 "cells": [
  {
   "cell_type": "markdown",
   "id": "6995cde7",
   "metadata": {
    "papermill": {
     "duration": 0.004129,
     "end_time": "2023-04-10T11:47:40.074039",
     "exception": false,
     "start_time": "2023-04-10T11:47:40.069910",
     "status": "completed"
    },
    "tags": []
   },
   "source": [
    "<a id=\"7\"></a>\n",
    "# <p style=\"padding:10px;background-color:#854441;margin:0;color:#e9c46a;font-family:newtimeroman;font-size:150%;text-align:left;border-radius: 0px 0px;overflow:hidden;font-weight:500\">1. Import \"shutil\" Module</p>\n",
    "\n",
    "### The shutil module offers a number of high-level operations on files and collections of files.\n",
    "### In particular, functions are provided which support file copying and removal."
   ]
  },
  {
   "cell_type": "code",
   "execution_count": 1,
   "id": "78a5070c",
   "metadata": {
    "execution": {
     "iopub.execute_input": "2023-04-10T11:47:40.081949Z",
     "iopub.status.busy": "2023-04-10T11:47:40.081414Z",
     "iopub.status.idle": "2023-04-10T11:47:40.092852Z",
     "shell.execute_reply": "2023-04-10T11:47:40.091517Z"
    },
    "papermill": {
     "duration": 0.018355,
     "end_time": "2023-04-10T11:47:40.095519",
     "exception": false,
     "start_time": "2023-04-10T11:47:40.077164",
     "status": "completed"
    },
    "tags": []
   },
   "outputs": [],
   "source": [
    "import shutil\n"
   ]
  },
  {
   "cell_type": "markdown",
   "id": "df9eb084",
   "metadata": {
    "papermill": {
     "duration": 0.002166,
     "end_time": "2023-04-10T11:47:40.100259",
     "exception": false,
     "start_time": "2023-04-10T11:47:40.098093",
     "status": "completed"
    },
    "tags": []
   },
   "source": [
    "<a id=\"7\"></a>\n",
    "# <p style=\"padding:10px;background-color:#854441;margin:0;color:#e9c46a;font-family:newtimeroman;font-size:150%;text-align:left;border-radius: 0px 0px;overflow:hidden;font-weight:500\">2. Define source and destination path</p>\n",
    "\n",
    "### The source path is the input file path.\n",
    "### Here, we move the file in working directory from input."
   ]
  },
  {
   "cell_type": "code",
   "execution_count": 2,
   "id": "987a1465",
   "metadata": {
    "execution": {
     "iopub.execute_input": "2023-04-10T11:47:40.107859Z",
     "iopub.status.busy": "2023-04-10T11:47:40.106724Z",
     "iopub.status.idle": "2023-04-10T11:47:40.112990Z",
     "shell.execute_reply": "2023-04-10T11:47:40.111558Z"
    },
    "papermill": {
     "duration": 0.012941,
     "end_time": "2023-04-10T11:47:40.115594",
     "exception": false,
     "start_time": "2023-04-10T11:47:40.102653",
     "status": "completed"
    },
    "tags": []
   },
   "outputs": [],
   "source": [
    "src_path = r\"/kaggle/input/shakespeare-text/text.txt\"\n",
    "dst_path = r\"/kaggle/working/\""
   ]
  },
  {
   "cell_type": "markdown",
   "id": "fb28440b",
   "metadata": {
    "papermill": {
     "duration": 0.002266,
     "end_time": "2023-04-10T11:47:40.120483",
     "exception": false,
     "start_time": "2023-04-10T11:47:40.118217",
     "status": "completed"
    },
    "tags": []
   },
   "source": [
    "<a id=\"7\"></a>\n",
    "# <p style=\"padding:10px;background-color:#854441;margin:0;color:#e9c46a;font-family:newtimeroman;font-size:150%;text-align:left;border-radius: 0px 0px;overflow:hidden;font-weight:500\">3. Use \"copy()\" function</p>\n",
    "\n",
    "### The function copies the file data and the file’s permission mode. Other metadata, like the file’s creation and modification times, is not preserved. To preserve all file metadata from the original, use copy2() instead.\n",
    "#### For more info, see the [documentation](https://docs.python.org/3/library/shutil.html)"
   ]
  },
  {
   "cell_type": "code",
   "execution_count": 3,
   "id": "7239d1b7",
   "metadata": {
    "execution": {
     "iopub.execute_input": "2023-04-10T11:47:40.127717Z",
     "iopub.status.busy": "2023-04-10T11:47:40.127158Z",
     "iopub.status.idle": "2023-04-10T11:47:40.160603Z",
     "shell.execute_reply": "2023-04-10T11:47:40.159501Z"
    },
    "papermill": {
     "duration": 0.040046,
     "end_time": "2023-04-10T11:47:40.163036",
     "exception": false,
     "start_time": "2023-04-10T11:47:40.122990",
     "status": "completed"
    },
    "tags": []
   },
   "outputs": [
    {
     "name": "stdout",
     "output_type": "stream",
     "text": [
      "Copied\n"
     ]
    }
   ],
   "source": [
    "\n",
    "shutil.copy(src_path, dst_path)\n",
    "print('Copied')"
   ]
  },
  {
   "cell_type": "markdown",
   "id": "d6ac5d3a",
   "metadata": {
    "papermill": {
     "duration": 0.002498,
     "end_time": "2023-04-10T11:47:40.168287",
     "exception": false,
     "start_time": "2023-04-10T11:47:40.165789",
     "status": "completed"
    },
    "tags": []
   },
   "source": [
    "# Thanks for reading..."
   ]
  }
 ],
 "metadata": {
  "kernelspec": {
   "display_name": "Python 3",
   "language": "python",
   "name": "python3"
  },
  "language_info": {
   "codemirror_mode": {
    "name": "ipython",
    "version": 3
   },
   "file_extension": ".py",
   "mimetype": "text/x-python",
   "name": "python",
   "nbconvert_exporter": "python",
   "pygments_lexer": "ipython3",
   "version": "3.7.12"
  },
  "papermill": {
   "default_parameters": {},
   "duration": 12.112915,
   "end_time": "2023-04-10T11:47:40.894243",
   "environment_variables": {},
   "exception": null,
   "input_path": "__notebook__.ipynb",
   "output_path": "__notebook__.ipynb",
   "parameters": {},
   "start_time": "2023-04-10T11:47:28.781328",
   "version": "2.4.0"
  }
 },
 "nbformat": 4,
 "nbformat_minor": 5
}
