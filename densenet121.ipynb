{
 "cells": [
  {
   "cell_type": "code",
   "execution_count": 1,
   "id": "3b5e3b3a",
   "metadata": {
    "execution": {
     "iopub.execute_input": "2022-10-08T16:28:11.068527Z",
     "iopub.status.busy": "2022-10-08T16:28:11.067635Z",
     "iopub.status.idle": "2022-10-08T16:30:01.312088Z",
     "shell.execute_reply": "2022-10-08T16:30:01.310031Z"
    },
    "papermill": {
     "duration": 110.252178,
     "end_time": "2022-10-08T16:30:01.314300",
     "exception": false,
     "start_time": "2022-10-08T16:28:11.062122",
     "status": "completed"
    },
    "tags": []
   },
   "outputs": [
    {
     "name": "stdout",
     "output_type": "stream",
     "text": [
      "Collecting split_folders\r\n",
      "  Downloading split_folders-0.5.1-py3-none-any.whl (8.4 kB)\r\n",
      "Installing collected packages: split_folders\r\n",
      "Successfully installed split_folders-0.5.1\r\n",
      "\u001b[33mWARNING: Running pip as the 'root' user can result in broken permissions and conflicting behaviour with the system package manager. It is recommended to use a virtual environment instead: https://pip.pypa.io/warnings/venv\u001b[0m\u001b[33m\r\n",
      "\u001b[0m"
     ]
    },
    {
     "name": "stderr",
     "output_type": "stream",
     "text": [
      "Copying files: 22424 files [01:38, 226.91 files/s]\n"
     ]
    }
   ],
   "source": [
    "!pip install split_folders\n",
    "import splitfolders\n",
    "splitfolders.ratio(\"../input/state-farm-distracted-driver-detection/imgs/train\", output=\"./\", seed=1337, ratio=(.6, .2, .2), group_prefix=None) # default values"
   ]
  },
  {
   "cell_type": "code",
   "execution_count": 2,
   "id": "b1b51bde",
   "metadata": {
    "execution": {
     "iopub.execute_input": "2022-10-08T16:30:01.404976Z",
     "iopub.status.busy": "2022-10-08T16:30:01.404010Z",
     "iopub.status.idle": "2022-10-08T16:30:07.327784Z",
     "shell.execute_reply": "2022-10-08T16:30:07.326556Z"
    },
    "papermill": {
     "duration": 5.972056,
     "end_time": "2022-10-08T16:30:07.330437",
     "exception": false,
     "start_time": "2022-10-08T16:30:01.358381",
     "status": "completed"
    },
    "tags": []
   },
   "outputs": [],
   "source": [
    "import pandas as pd\n",
    "import numpy as np\n",
    "import os\n",
    "import keras\n",
    "import matplotlib.pyplot as plt\n",
    "from keras.layers import Dense, Dropout, Flatten, ZeroPadding2D, Conv2D, MaxPooling2D, Activation, GlobalAveragePooling2D\n",
    "from keras.preprocessing import image\n",
    "from keras.applications.mobilenet import preprocess_input\n",
    "from keras.preprocessing.image import ImageDataGenerator\n",
    "from keras.models import Model, Sequential\n",
    "#from keras.optimizers import Adam\n",
    "from tensorflow.keras.optimizers import Adam\n",
    "from sklearn.model_selection import train_test_split\n",
    "from keras.callbacks import EarlyStopping, ReduceLROnPlateau\n",
    "from sklearn.utils import class_weight\n"
   ]
  },
  {
   "cell_type": "code",
   "execution_count": 3,
   "id": "02c9d3b5",
   "metadata": {
    "execution": {
     "iopub.execute_input": "2022-10-08T16:30:07.421035Z",
     "iopub.status.busy": "2022-10-08T16:30:07.419028Z",
     "iopub.status.idle": "2022-10-08T16:30:08.376891Z",
     "shell.execute_reply": "2022-10-08T16:30:08.374842Z"
    },
    "papermill": {
     "duration": 1.004665,
     "end_time": "2022-10-08T16:30:08.379160",
     "exception": false,
     "start_time": "2022-10-08T16:30:07.374495",
     "status": "completed"
    },
    "tags": []
   },
   "outputs": [
    {
     "name": "stdout",
     "output_type": "stream",
     "text": [
      "Found 13451 images belonging to 10 classes.\n",
      "Found 4481 images belonging to 10 classes.\n"
     ]
    }
   ],
   "source": [
    "import os\n",
    "NUM_CLASSES = len(os.listdir(r'./test'))\n",
    "\n",
    "train_datagen=ImageDataGenerator(preprocessing_function=preprocess_input) #included in our dependencies\n",
    "\n",
    "train_generator=train_datagen.flow_from_directory(r'./train', # this is where you specify the path to the main data folder\n",
    "                                                 target_size=(224,224),\n",
    "                                                 color_mode='rgb',\n",
    "                                                 batch_size=24,\n",
    "                                                 class_mode='categorical',\n",
    "                                                 shuffle=True)\n",
    "\n",
    "val_datagen=ImageDataGenerator(preprocessing_function=preprocess_input) #included in our dependencies\n",
    "\n",
    "val_generator=val_datagen.flow_from_directory(r'./val', # this is where you specify the path to the main data folder\n",
    "                                                 target_size=(224,224),\n",
    "                                                 color_mode='rgb',\n",
    "                                                 batch_size=24,\n",
    "                                                 class_mode='categorical',\n",
    "                                                 shuffle=True)"
   ]
  },
  {
   "cell_type": "code",
   "execution_count": 4,
   "id": "83e0462f",
   "metadata": {
    "execution": {
     "iopub.execute_input": "2022-10-08T16:30:08.524178Z",
     "iopub.status.busy": "2022-10-08T16:30:08.523820Z",
     "iopub.status.idle": "2022-10-08T16:30:15.362850Z",
     "shell.execute_reply": "2022-10-08T16:30:15.361646Z"
    },
    "papermill": {
     "duration": 6.922894,
     "end_time": "2022-10-08T16:30:15.364909",
     "exception": false,
     "start_time": "2022-10-08T16:30:08.442015",
     "status": "completed"
    },
    "tags": []
   },
   "outputs": [
    {
     "name": "stderr",
     "output_type": "stream",
     "text": [
      "2022-10-08 16:30:08.645716: I tensorflow/stream_executor/cuda/cuda_gpu_executor.cc:937] successful NUMA node read from SysFS had negative value (-1), but there must be at least one NUMA node, so returning NUMA node zero\n",
      "2022-10-08 16:30:08.741464: I tensorflow/stream_executor/cuda/cuda_gpu_executor.cc:937] successful NUMA node read from SysFS had negative value (-1), but there must be at least one NUMA node, so returning NUMA node zero\n",
      "2022-10-08 16:30:08.742395: I tensorflow/stream_executor/cuda/cuda_gpu_executor.cc:937] successful NUMA node read from SysFS had negative value (-1), but there must be at least one NUMA node, so returning NUMA node zero\n",
      "2022-10-08 16:30:08.744234: I tensorflow/core/platform/cpu_feature_guard.cc:142] This TensorFlow binary is optimized with oneAPI Deep Neural Network Library (oneDNN) to use the following CPU instructions in performance-critical operations:  AVX2 AVX512F FMA\n",
      "To enable them in other operations, rebuild TensorFlow with the appropriate compiler flags.\n",
      "2022-10-08 16:30:08.744548: I tensorflow/stream_executor/cuda/cuda_gpu_executor.cc:937] successful NUMA node read from SysFS had negative value (-1), but there must be at least one NUMA node, so returning NUMA node zero\n",
      "2022-10-08 16:30:08.745394: I tensorflow/stream_executor/cuda/cuda_gpu_executor.cc:937] successful NUMA node read from SysFS had negative value (-1), but there must be at least one NUMA node, so returning NUMA node zero\n",
      "2022-10-08 16:30:08.746158: I tensorflow/stream_executor/cuda/cuda_gpu_executor.cc:937] successful NUMA node read from SysFS had negative value (-1), but there must be at least one NUMA node, so returning NUMA node zero\n",
      "2022-10-08 16:30:10.861082: I tensorflow/stream_executor/cuda/cuda_gpu_executor.cc:937] successful NUMA node read from SysFS had negative value (-1), but there must be at least one NUMA node, so returning NUMA node zero\n",
      "2022-10-08 16:30:10.861950: I tensorflow/stream_executor/cuda/cuda_gpu_executor.cc:937] successful NUMA node read from SysFS had negative value (-1), but there must be at least one NUMA node, so returning NUMA node zero\n",
      "2022-10-08 16:30:10.862612: I tensorflow/stream_executor/cuda/cuda_gpu_executor.cc:937] successful NUMA node read from SysFS had negative value (-1), but there must be at least one NUMA node, so returning NUMA node zero\n",
      "2022-10-08 16:30:10.863228: I tensorflow/core/common_runtime/gpu/gpu_device.cc:1510] Created device /job:localhost/replica:0/task:0/device:GPU:0 with 15401 MB memory:  -> device: 0, name: Tesla P100-PCIE-16GB, pci bus id: 0000:00:04.0, compute capability: 6.0\n"
     ]
    },
    {
     "name": "stdout",
     "output_type": "stream",
     "text": [
      "Downloading data from https://storage.googleapis.com/tensorflow/keras-applications/densenet/densenet121_weights_tf_dim_ordering_tf_kernels_notop.h5\n",
      "29089792/29084464 [==============================] - 0s 0us/step\n",
      "29097984/29084464 [==============================] - 0s 0us/step\n",
      "Model: \"sequential\"\n",
      "_________________________________________________________________\n",
      "Layer (type)                 Output Shape              Param #   \n",
      "=================================================================\n",
      "densenet121 (Functional)     (None, 1024)              7037504   \n",
      "_________________________________________________________________\n",
      "dense (Dense)                (None, 10)                10250     \n",
      "=================================================================\n",
      "Total params: 7,047,754\n",
      "Trainable params: 6,964,106\n",
      "Non-trainable params: 83,648\n",
      "_________________________________________________________________\n",
      "None\n"
     ]
    }
   ],
   "source": [
    "from tensorflow.keras.applications.inception_v3 import InceptionV3\n",
    "from tensorflow.keras.applications.inception_resnet_v2 import InceptionResNetV2\n",
    "from tensorflow.keras.applications.xception import Xception\n",
    "from tensorflow.keras.applications.densenet import DenseNet201\n",
    "from tensorflow.keras.applications.efficientnet import EfficientNetB6\n",
    "from tensorflow.keras.applications.mobilenet import MobileNet\n",
    "from tensorflow.keras.applications.mobilenet_v2 import MobileNetV2\n",
    "from tensorflow.keras.applications.resnet50 import ResNet50\n",
    "from tensorflow.keras.applications.nasnet import NASNetMobile\n",
    "from tensorflow.keras.applications.densenet import DenseNet121\n",
    "\n",
    "md = DenseNet121(weights='imagenet', include_top=False,  input_shape=(224, 224, 3), pooling='avg')\n",
    "\n",
    "#from keras.utils import plot_model\n",
    "from keras.utils.vis_utils import plot_model\n",
    "model = keras.models.Sequential([\n",
    "    md,\n",
    "    keras.layers.Dense(NUM_CLASSES, activation='softmax')\n",
    "]) \n",
    "# summarize layers \n",
    "print(model.summary())\n",
    "# plot graph\n",
    "#plot_model(model, to_file='shared_input_layer.png')"
   ]
  },
  {
   "cell_type": "code",
   "execution_count": 5,
   "id": "ca74760e",
   "metadata": {
    "execution": {
     "iopub.execute_input": "2022-10-08T16:30:15.456011Z",
     "iopub.status.busy": "2022-10-08T16:30:15.455100Z",
     "iopub.status.idle": "2022-10-08T17:16:00.862996Z",
     "shell.execute_reply": "2022-10-08T17:16:00.861913Z"
    },
    "papermill": {
     "duration": 2745.455884,
     "end_time": "2022-10-08T17:16:00.865495",
     "exception": false,
     "start_time": "2022-10-08T16:30:15.409611",
     "status": "completed"
    },
    "tags": []
   },
   "outputs": [
    {
     "name": "stderr",
     "output_type": "stream",
     "text": [
      "/opt/conda/lib/python3.7/site-packages/keras/optimizer_v2/optimizer_v2.py:356: UserWarning: The `lr` argument is deprecated, use `learning_rate` instead.\n",
      "  \"The `lr` argument is deprecated, use `learning_rate` instead.\")\n",
      "/opt/conda/lib/python3.7/site-packages/keras/engine/training.py:1972: UserWarning: `Model.fit_generator` is deprecated and will be removed in a future version. Please use `Model.fit`, which supports generators.\n",
      "  warnings.warn('`Model.fit_generator` is deprecated and '\n",
      "2022-10-08 16:30:15.895142: I tensorflow/compiler/mlir/mlir_graph_optimization_pass.cc:185] None of the MLIR Optimization Passes are enabled (registered 2)\n"
     ]
    },
    {
     "name": "stdout",
     "output_type": "stream",
     "text": [
      "Epoch 1/20\n"
     ]
    },
    {
     "name": "stderr",
     "output_type": "stream",
     "text": [
      "2022-10-08 16:30:26.952275: I tensorflow/stream_executor/cuda/cuda_dnn.cc:369] Loaded cuDNN version 8005\n"
     ]
    },
    {
     "name": "stdout",
     "output_type": "stream",
     "text": [
      "560/560 [==============================] - 145s 227ms/step - loss: 1.0278 - accuracy: 0.7513 - val_loss: 0.2778 - val_accuracy: 0.9628\n",
      "Epoch 2/20\n",
      "560/560 [==============================] - 124s 221ms/step - loss: 0.1809 - accuracy: 0.9788 - val_loss: 0.0956 - val_accuracy: 0.9848\n",
      "Epoch 3/20\n",
      "560/560 [==============================] - 124s 222ms/step - loss: 0.0720 - accuracy: 0.9923 - val_loss: 0.0517 - val_accuracy: 0.9906\n",
      "Epoch 4/20\n",
      "560/560 [==============================] - 124s 220ms/step - loss: 0.0362 - accuracy: 0.9969 - val_loss: 0.0357 - val_accuracy: 0.9935\n",
      "Epoch 5/20\n",
      "560/560 [==============================] - 123s 219ms/step - loss: 0.0203 - accuracy: 0.9990 - val_loss: 0.0278 - val_accuracy: 0.9942\n",
      "Epoch 6/20\n",
      "560/560 [==============================] - 124s 222ms/step - loss: 0.0122 - accuracy: 0.9997 - val_loss: 0.0242 - val_accuracy: 0.9940\n",
      "Epoch 7/20\n",
      "560/560 [==============================] - 123s 220ms/step - loss: 0.0081 - accuracy: 0.9996 - val_loss: 0.0212 - val_accuracy: 0.9953\n",
      "Epoch 8/20\n",
      "560/560 [==============================] - 125s 223ms/step - loss: 0.0053 - accuracy: 0.9999 - val_loss: 0.0205 - val_accuracy: 0.9951\n",
      "Epoch 9/20\n",
      "560/560 [==============================] - 124s 222ms/step - loss: 0.0038 - accuracy: 1.0000 - val_loss: 0.0178 - val_accuracy: 0.9953\n",
      "Epoch 10/20\n",
      "560/560 [==============================] - 124s 221ms/step - loss: 0.0026 - accuracy: 0.9999 - val_loss: 0.0194 - val_accuracy: 0.9953\n",
      "Epoch 11/20\n",
      "560/560 [==============================] - 125s 223ms/step - loss: 0.0018 - accuracy: 1.0000 - val_loss: 0.0195 - val_accuracy: 0.9951\n",
      "Epoch 12/20\n",
      "560/560 [==============================] - 125s 224ms/step - loss: 0.0013 - accuracy: 1.0000 - val_loss: 0.0183 - val_accuracy: 0.9955\n",
      "Epoch 13/20\n",
      "560/560 [==============================] - 125s 223ms/step - loss: 0.0012 - accuracy: 1.0000 - val_loss: 0.0187 - val_accuracy: 0.9960\n",
      "Epoch 14/20\n",
      "560/560 [==============================] - 126s 225ms/step - loss: 0.0011 - accuracy: 1.0000 - val_loss: 0.0212 - val_accuracy: 0.9951\n",
      "Epoch 15/20\n",
      "560/560 [==============================] - 126s 224ms/step - loss: 0.0022 - accuracy: 0.9996 - val_loss: 0.0189 - val_accuracy: 0.9951\n",
      "\n",
      "Epoch 00015: ReduceLROnPlateau reducing learning rate to 9.999999747378752e-07.\n",
      "Epoch 16/20\n",
      "560/560 [==============================] - 127s 227ms/step - loss: 0.0017 - accuracy: 0.9999 - val_loss: 0.0170 - val_accuracy: 0.9951\n",
      "Epoch 17/20\n",
      "560/560 [==============================] - 127s 227ms/step - loss: 0.0010 - accuracy: 1.0000 - val_loss: 0.0170 - val_accuracy: 0.9948\n",
      "Epoch 18/20\n",
      "560/560 [==============================] - 126s 225ms/step - loss: 8.7292e-04 - accuracy: 1.0000 - val_loss: 0.0173 - val_accuracy: 0.9948\n",
      "Epoch 19/20\n",
      "560/560 [==============================] - 125s 224ms/step - loss: 8.4517e-04 - accuracy: 1.0000 - val_loss: 0.0167 - val_accuracy: 0.9953\n",
      "Epoch 20/20\n",
      "560/560 [==============================] - 126s 225ms/step - loss: 8.2882e-04 - accuracy: 1.0000 - val_loss: 0.0175 - val_accuracy: 0.9951\n",
      "\n",
      "Epoch 00020: ReduceLROnPlateau reducing learning rate to 9.999999974752428e-08.\n"
     ]
    }
   ],
   "source": [
    "earlystop=EarlyStopping(patience=3) \n",
    "learning_rate_reduction=ReduceLROnPlateau(monitor='loss',patience=2,verbose=1,factor=0.1,min_lr=0.0000000001) \n",
    "callback=[learning_rate_reduction]\n",
    "\n",
    "model.compile(optimizer=Adam(lr=0.00001),loss='categorical_crossentropy', metrics=['accuracy'])\n",
    "\n",
    "step_size_train=train_generator.n//train_generator.batch_size\n",
    "step_size_val=val_generator.n//val_generator.batch_size\n",
    "history = model.fit_generator(generator=train_generator, steps_per_epoch=step_size_train, validation_data=val_generator, validation_steps=step_size_val, epochs=20, callbacks=callback)"
   ]
  },
  {
   "cell_type": "code",
   "execution_count": 6,
   "id": "a36273c4",
   "metadata": {
    "execution": {
     "iopub.execute_input": "2022-10-08T17:16:02.244711Z",
     "iopub.status.busy": "2022-10-08T17:16:02.244313Z",
     "iopub.status.idle": "2022-10-08T17:16:02.794064Z",
     "shell.execute_reply": "2022-10-08T17:16:02.792028Z"
    },
    "papermill": {
     "duration": 1.203522,
     "end_time": "2022-10-08T17:16:02.796378",
     "exception": false,
     "start_time": "2022-10-08T17:16:01.592856",
     "status": "completed"
    },
    "tags": []
   },
   "outputs": [
    {
     "name": "stdout",
     "output_type": "stream",
     "text": [
      "Saved model to disk\n"
     ]
    }
   ],
   "source": [
    "# serialize model to JSON\n",
    "model_json = model.to_json()\n",
    "with open(\"MobileNet.json\", \"w\") as json_file:\n",
    "    json_file.write(model_json)\n",
    "# serialize weights to HDF5\n",
    "model.save_weights(\"MobileNet.h5\") \n",
    "print(\"Saved model to disk\")"
   ]
  },
  {
   "cell_type": "code",
   "execution_count": 7,
   "id": "5e425ee9",
   "metadata": {
    "execution": {
     "iopub.execute_input": "2022-10-08T17:16:04.166523Z",
     "iopub.status.busy": "2022-10-08T17:16:04.166140Z",
     "iopub.status.idle": "2022-10-08T17:16:04.728981Z",
     "shell.execute_reply": "2022-10-08T17:16:04.727839Z"
    },
    "papermill": {
     "duration": 1.239593,
     "end_time": "2022-10-08T17:16:04.731554",
     "exception": false,
     "start_time": "2022-10-08T17:16:03.491961",
     "status": "completed"
    },
    "tags": []
   },
   "outputs": [
    {
     "data": {
      "image/png": "[encoded data removed]",
      "text/plain": [
       "<Figure size 432x288 with 1 Axes>"
      ]
     },
     "metadata": {
      "needs_background": "light"
     },
     "output_type": "display_data"
    },
    {
     "data": {
      "image/png": "[encoded data removed]",
      "text/plain": [
       "<Figure size 432x288 with 1 Axes>"
      ]
     },
     "metadata": {
      "needs_background": "light"
     },
     "output_type": "display_data"
    }
   ],
   "source": [
    "plt.figure(1)\n",
    "plt.plot(history.history['accuracy'])\n",
    "plt.plot(history.history['val_accuracy'])\n",
    "plt.title('model accuracy')\n",
    "plt.ylabel('accuracy')\n",
    "plt.xlabel('epoch')\n",
    "plt.legend(['train', 'val'], loc='upper left')\n",
    "\n",
    "plt.figure(2)\n",
    "plt.plot(history.history['loss'])\n",
    "plt.plot(history.history['val_loss'])\n",
    "plt.title('model loss')\n",
    "plt.ylabel('loss')\n",
    "plt.xlabel('epoch')\n",
    "plt.legend(['train', 'val'], loc='upper right')\n",
    "plt.show()"
   ]
  },
  {
   "cell_type": "code",
   "execution_count": 8,
   "id": "4d43c0b8",
   "metadata": {
    "execution": {
     "iopub.execute_input": "2022-10-08T17:16:06.161949Z",
     "iopub.status.busy": "2022-10-08T17:16:06.161557Z",
     "iopub.status.idle": "2022-10-08T17:16:35.099298Z",
     "shell.execute_reply": "2022-10-08T17:16:35.098397Z"
    },
    "papermill": {
     "duration": 29.584546,
     "end_time": "2022-10-08T17:16:35.101348",
     "exception": false,
     "start_time": "2022-10-08T17:16:05.516802",
     "status": "completed"
    },
    "tags": []
   },
   "outputs": [
    {
     "name": "stdout",
     "output_type": "stream",
     "text": [
      "Found 4492 images belonging to 10 classes.\n"
     ]
    },
    {
     "name": "stderr",
     "output_type": "stream",
     "text": [
      "/opt/conda/lib/python3.7/site-packages/keras/engine/training.py:2035: UserWarning: `Model.predict_generator` is deprecated and will be removed in a future version. Please use `Model.predict`, which supports generators.\n",
      "  warnings.warn('`Model.predict_generator` is deprecated and '\n"
     ]
    },
    {
     "name": "stdout",
     "output_type": "stream",
     "text": [
      "187/187 [==============================] - 27s 137ms/step\n",
      "               Filename Predictions\n",
      "0     c0/img_100026.jpg          c0\n",
      "1     c0/img_100074.jpg          c0\n",
      "2     c0/img_100312.jpg          c0\n",
      "3     c0/img_100337.jpg          c0\n",
      "4       c0/img_1005.jpg          c0\n",
      "...                 ...         ...\n",
      "4487    c9/img_9877.jpg          c9\n",
      "4488   c9/img_99010.jpg          c9\n",
      "4489   c9/img_99212.jpg          c9\n",
      "4490   c9/img_99740.jpg          c9\n",
      "4491   c9/img_99801.jpg          c9\n",
      "\n",
      "[4492 rows x 2 columns]\n",
      "4476 16\n",
      "              precision    recall  f1-score   support\n",
      "\n",
      "           0       0.99      1.00      0.99       499\n",
      "           1       1.00      1.00      1.00       454\n",
      "           2       1.00      1.00      1.00       464\n",
      "           3       1.00      1.00      1.00       470\n",
      "           4       1.00      1.00      1.00       466\n",
      "           5       1.00      1.00      1.00       463\n",
      "           6       0.99      1.00      1.00       465\n",
      "           7       1.00      1.00      1.00       401\n",
      "           8       1.00      0.98      0.99       383\n",
      "           9       1.00      0.99      0.99       427\n",
      "\n",
      "   micro avg       1.00      1.00      1.00      4492\n",
      "   macro avg       1.00      1.00      1.00      4492\n",
      "weighted avg       1.00      1.00      1.00      4492\n",
      " samples avg       1.00      1.00      1.00      4492\n",
      "\n",
      "99.64381121994657\n",
      "Class  0  Accuracy:  0.9959919839679359\n",
      "Class  1  Accuracy:  1.0\n",
      "Class  2  Accuracy:  1.0\n",
      "Class  3  Accuracy:  0.9957446808510638\n",
      "Class  4  Accuracy:  0.9978540772532188\n",
      "Class  5  Accuracy:  1.0\n",
      "Class  6  Accuracy:  1.0\n",
      "Class  7  Accuracy:  0.9975062344139651\n",
      "Class  8  Accuracy:  0.9817232375979112\n",
      "Class  9  Accuracy:  0.9929742388758782\n"
     ]
    },
    {
     "data": {
      "text/plain": [
       "<AxesSubplot:>"
      ]
     },
     "execution_count": 8,
     "metadata": {},
     "output_type": "execute_result"
    },
    {
     "data": {
      "image/png": "[encoded data removed]",
      "text/plain": [
       "<Figure size 720x576 with 2 Axes>"
      ]
     },
     "metadata": {
      "needs_background": "light"
     },
     "output_type": "display_data"
    }
   ],
   "source": [
    "test_datagen=ImageDataGenerator(preprocessing_function=preprocess_input)\n",
    "batch_size=24\n",
    "pred_dir = r'./test'\n",
    "test_generator = test_datagen.flow_from_directory(\n",
    "    directory=pred_dir,\n",
    "    target_size=(224,224),\n",
    "    color_mode=\"rgb\",\n",
    "    batch_size=batch_size,\n",
    "    class_mode=None,\n",
    "    shuffle=False\n",
    ")\n",
    "#test_generator.reset() \n",
    "pred=model.predict_generator(test_generator,verbose=1,steps=test_generator.n/batch_size)\n",
    "\n",
    "predicted_class_indices=np.argmax(pred,axis=1)\n",
    "labels = (train_generator.class_indices)\n",
    "labels = dict((v,k) for k,v in labels.items())\n",
    "predictions = [labels[k] for k in predicted_class_indices]\n",
    "filenames=test_generator.filenames\n",
    "results=pd.DataFrame({\"Filename\":filenames,\n",
    "                      \"Predictions\":predictions})\n",
    "print(results)\n",
    "\n",
    "\n",
    "import pandas as pd\n",
    "t_counter = 0\n",
    "f_counter = 0\n",
    "\n",
    "file_arr = []\n",
    "pred_arr = []\n",
    "\n",
    "for index, row in results.iterrows():\n",
    "    #print(row['Filename'].split('/')[0], row['Predictions'])\n",
    "    file_arr.append(row['Filename'].split('/')[0])\n",
    "    pred_arr.append(row['Predictions'])\n",
    "    if row['Filename'].split('/')[0] == row['Predictions']:\n",
    "        t_counter = t_counter + 1\n",
    "    else:\n",
    "        f_counter = f_counter + 1\n",
    "print(t_counter, f_counter)\n",
    "\n",
    "from sklearn.preprocessing import LabelEncoder\n",
    "labelencoder = LabelEncoder()\n",
    "test_y = labelencoder.fit_transform(file_arr)\n",
    "pred_y = labelencoder.fit_transform(pred_arr)\n",
    "test_y_or = test_y\n",
    "pred_y_or = pred_y\n",
    "\n",
    "from keras.utils import np_utils\n",
    "test_y = np_utils.to_categorical(test_y, NUM_CLASSES)\n",
    "pred_y = np_utils.to_categorical(pred_y, NUM_CLASSES)\n",
    "from sklearn.metrics import classification_report\n",
    "print(classification_report(test_y, pred_y))\n",
    "\n",
    "from sklearn.metrics import accuracy_score\n",
    "score = accuracy_score(test_y, pred_y)\n",
    "print(score*100)\n",
    "\n",
    "from sklearn.metrics import confusion_matrix\n",
    "c=confusion_matrix(test_y_or, pred_y_or)\n",
    "x = c.diagonal()/c.sum(axis=1)\n",
    "for i in range(len(x)):\n",
    "    print('Class ', i, ' Accuracy: ', x[i])\n",
    "import seaborn as sns\n",
    "import matplotlib.pyplot as plt\n",
    "\n",
    "plt.figure(figsize = (10,8))\n",
    "sns.heatmap(c, annot=True, annot_kws={\"size\": 25}, fmt='d')"
   ]
  }
 ],
 "metadata": {
  "kernelspec": {
   "display_name": "Python 3",
   "language": "python",
   "name": "python3"
  },
  "language_info": {
   "codemirror_mode": {
    "name": "ipython",
    "version": 3
   },
   "file_extension": ".py",
   "mimetype": "text/x-python",
   "name": "python",
   "nbconvert_exporter": "python",
   "pygments_lexer": "ipython3",
   "version": "3.7.12"
  },
  "papermill": {
   "default_parameters": {},
   "duration": 2916.691326,
   "end_time": "2022-10-08T17:16:39.461836",
   "environment_variables": {},
   "exception": null,
   "input_path": "__notebook__.ipynb",
   "output_path": "__notebook__.ipynb",
   "parameters": {},
   "start_time": "2022-10-08T16:28:02.770510",
   "version": "2.3.4"
  }
 },
 "nbformat": 4,
 "nbformat_minor": 5
}
